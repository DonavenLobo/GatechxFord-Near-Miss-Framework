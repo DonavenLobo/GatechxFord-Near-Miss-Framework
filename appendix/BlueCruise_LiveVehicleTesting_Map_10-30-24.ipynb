{
 "cells": [
  {
   "cell_type": "markdown",
   "metadata": {},
   "source": [
    "# BlueCruise EDA Mapping: Live Vehicle Testing Investigation (10/30/2024)"
   ]
  },
  {
   "cell_type": "markdown",
   "metadata": {},
   "source": [
    "## Objective:\n",
    "- Determine which roads are recording BC data when 'opened up'"
   ]
  },
  {
   "cell_type": "code",
   "execution_count": 1,
   "metadata": {
    "tags": []
   },
   "outputs": [],
   "source": [
    "# Imports\n",
    "import pandas as pd\n",
    "import numpy as np\n",
    "import matplotlib\n",
    "matplotlib.use('nbagg')\n",
    "%matplotlib inline\n",
    "import folium\n",
    "from folium.plugins import MarkerCluster\n",
    "# from google.cloud import bigquery\n",
    "import os"
   ]
  },
  {
   "cell_type": "markdown",
   "metadata": {
    "vscode": {
     "languageId": "sql"
    }
   },
   "source": [
    "## GCP Setup:"
   ]
  },
  {
   "cell_type": "code",
   "execution_count": 2,
   "metadata": {
    "tags": []
   },
   "outputs": [],
   "source": [
    "# # Google Cloud Authentication: \n",
    "assert os.system('gcloud auth application-default login --quiet') == 0"
   ]
  },
  {
   "cell_type": "code",
   "execution_count": 3,
   "metadata": {
    "tags": []
   },
   "outputs": [],
   "source": [
    "# # Insert your project ID here:\n",
    "PROJECT_ID = \"ford-5bba11084fd31e17ec109f0c\""
   ]
  },
  {
   "cell_type": "code",
   "execution_count": 4,
   "metadata": {
    "tags": []
   },
   "outputs": [],
   "source": [
    "assert os.system(f\"gcloud config set core/project {PROJECT_ID}\") == 0"
   ]
  },
  {
   "cell_type": "code",
   "execution_count": null,
   "metadata": {
    "tags": []
   },
   "outputs": [],
   "source": [
    "!gcloud config list"
   ]
  },
  {
   "cell_type": "code",
   "execution_count": 6,
   "metadata": {
    "tags": []
   },
   "outputs": [],
   "source": [
    "from google.cloud import bigquery"
   ]
  },
  {
   "cell_type": "markdown",
   "metadata": {},
   "source": [
    "### Now lets pull in some initial data to play with"
   ]
  },
  {
   "cell_type": "code",
   "execution_count": 20,
   "metadata": {
    "tags": []
   },
   "outputs": [],
   "source": [
    "q = \"\"\"\n",
    "SELECT \n",
    "/* Identifiers */\n",
    "dpefa_bc_007_trip_d as trip_id,\n",
    "\n",
    "/*Time*/\n",
    "dpefa_bc_007_event_local_m as date_time,\n",
    "\n",
    "/* Driving Characteristics */\n",
    "dpefa_bc_007_trffc_jam_asst_stat_x as veh_assist_mode,\n",
    "dpefa_bc_007_hst_veh_long_vlcy_r as veh_long_vel_mps,\n",
    "dpefa_bc_007_hst_veh_ltrl_vlcy_r as veh_ltrl_vel_mps,\n",
    "dpefa_bc_007_hst_veh_yaw_rate_r as veh_yaw_rate_radps,\n",
    "dpefa_bc_007_acc_mps2 as veh_accel_mps2,\n",
    "dpefa_bc_007_jerk_mps3 as veh_jerk_mps3,\n",
    "\n",
    "/* Context Clues */\n",
    "dpefa_bc_007_ehr_mini_form_of_way_x as road_type,\n",
    "\n",
    "/* GPS */\n",
    "dpefa_bc_007_gps_long_decm_deg_r_3 as gps_longititude,\n",
    "dpefa_bc_007_gps_lat_decm_deg_r_3 as gps_latitude,\n",
    "\n",
    "\n",
    "FROM `prj-dfad-31-usrda-p-31.dlobo1_bluecruise.gdpefa_adas_bc_ada_lm_vw` \n",
    "WHERE EXTRACT(date from dpefa_bc_007_event_m) between '2024-10-15' and '2024-10-22'\n",
    "AND dpefa_bc_007_vin_17_x = '3FMTK3R4XPMA61289'\n",
    "\"\"\""
   ]
  },
  {
   "cell_type": "code",
   "execution_count": 30,
   "metadata": {},
   "outputs": [],
   "source": [
    "q = \"\"\"\n",
    "SELECT\n",
    "    DISTINCT dpefa_bc_007_gps_long_decm_deg_r_3 AS gps_longitude,\n",
    "    dpefa_bc_007_gps_lat_decm_deg_r_3 AS gps_latitude\n",
    "FROM\n",
    "    `prj-dfad-31-usrda-p-31.dlobo1_bluecruise.gdpefa_adas_bc_ada_lm_vw` \n",
    "WHERE\n",
    "    EXTRACT(DATE FROM dpefa_bc_007_event_m) BETWEEN '2024-10-15' AND '2024-10-22'\n",
    "    AND dpefa_bc_007_ehr_mini_form_of_way_x != \"CONTROLLED_ACCESS_ROAD\"\n",
    "    AND dpefa_bc_007_gps_long_decm_deg_r_3 BETWEEN -90.4181 AND -82.4135\n",
    "    AND dpefa_bc_007_gps_lat_decm_deg_r_3 BETWEEN 41.6961 AND 48.3061\n",
    "\"\"\""
   ]
  },
  {
   "cell_type": "code",
   "execution_count": 8,
   "metadata": {},
   "outputs": [],
   "source": [
    "q = \"\"\"\n",
    "SELECT * \n",
    "FROM `ford-5bba11084fd31e17ec109f0c.GATech.bc_gps_data_oct15-oct22`\n",
    "WHERE gps_longitude BETWEEN -84 AND -82.9\n",
    "    AND gps_latitude < 43 \n",
    "    AND gps_latitude > 42.4\n",
    "\"\"\""
   ]
  },
  {
   "cell_type": "markdown",
   "metadata": {
    "tags": []
   },
   "source": [
    "#### BigQuery Data Extraction:"
   ]
  },
  {
   "cell_type": "code",
   "execution_count": 9,
   "metadata": {
    "tags": []
   },
   "outputs": [],
   "source": [
    "# Excecute the query to get 1Hz data for all collision claim vehicles between april and august\n",
    "client = bigquery.Client()\n",
    "live_df = client.query(q)\n",
    "df = live_df.to_dataframe()"
   ]
  },
  {
   "cell_type": "code",
   "execution_count": 10,
   "metadata": {},
   "outputs": [],
   "source": [
    "df.to_csv(r'C:\\Users\\dlobo1\\Documents\\Gatech Research\\Jupyter Notebooks\\data\\bc_livedata_gpsregion_oct15-oct22.csv', index=False)\n"
   ]
  },
  {
   "cell_type": "markdown",
   "metadata": {},
   "source": [
    "#### Begin working here: [Don't run the queries and conversions again]"
   ]
  },
  {
   "cell_type": "code",
   "execution_count": 2,
   "metadata": {},
   "outputs": [],
   "source": [
    "df_bc = pd.read_csv(r'C:\\Users\\donav\\OneDrive - Georgia Institute of Technology\\Current Work\\data\\bc_livedata_gpsregion_oct15-oct22.csv',) # <-- BlueCruise Data"
   ]
  },
  {
   "cell_type": "code",
   "execution_count": null,
   "metadata": {},
   "outputs": [],
   "source": [
    "df_bc.info()"
   ]
  },
  {
   "cell_type": "code",
   "execution_count": null,
   "metadata": {},
   "outputs": [],
   "source": [
    "df_bc.head()"
   ]
  },
  {
   "cell_type": "code",
   "execution_count": null,
   "metadata": {},
   "outputs": [],
   "source": [
    "unique_pairs = df_bc.drop_duplicates(subset=['gps_latitude', 'gps_longitude'])\n",
    "\n",
    "# Get the number of unique pairs\n",
    "number_of_unique_pairs = len(unique_pairs)\n",
    "\n",
    "print(f'The number of unique latitude and longitude pairs is: {number_of_unique_pairs}')"
   ]
  },
  {
   "cell_type": "code",
   "execution_count": 6,
   "metadata": {},
   "outputs": [],
   "source": [
    "# Randomly sample the data since there are too many points to plot\n",
    "\n",
    "sampled_df = df_bc.sample(n=100000, random_state=1)"
   ]
  },
  {
   "cell_type": "code",
   "execution_count": null,
   "metadata": {},
   "outputs": [],
   "source": [
    "sampled_df.info()"
   ]
  },
  {
   "cell_type": "markdown",
   "metadata": {},
   "source": [
    "# Plot GPS coordinates on a map"
   ]
  },
  {
   "cell_type": "markdown",
   "metadata": {},
   "source": [
    "### Folium interactive map"
   ]
  },
  {
   "cell_type": "code",
   "execution_count": null,
   "metadata": {},
   "outputs": [],
   "source": [
    "# Initialize a folium map centered around the first point\n",
    "m = folium.Map(location=[sampled_df['gps_latitude'].iloc[0], sampled_df['gps_longitude'].iloc[0]], zoom_start=12)\n",
    "\n",
    "# Create a marker cluster\n",
    "marker_cluster = MarkerCluster().add_to(m)\n",
    "\n",
    "# Add points to the marker cluster\n",
    "for _, row in sampled_df.iterrows():\n",
    "    folium.CircleMarker(\n",
    "        [row['gps_latitude'], row['gps_longitude']],\n",
    "        radius=2,\n",
    "        color=\"blue\",\n",
    "        fill=True,\n",
    "        fill_opacity=0.6,\n",
    "    ).add_to(marker_cluster)\n",
    "\n",
    "# Display the map\n",
    "m"
   ]
  },
  {
   "cell_type": "markdown",
   "metadata": {},
   "source": [
    "# Look at a specific area:\n",
    "- Use the map to determine the region you are interested in (Has to be in the detroit area)\n",
    "- Input the coordinates of a region of interest\n",
    "- Use function to find the X-mile bounding box"
   ]
  },
  {
   "cell_type": "code",
   "execution_count": null,
   "metadata": {},
   "outputs": [],
   "source": [
    "## Map to determine coordinates of interest\n",
    "\n",
    "# Initialize a folium map centered around Detroit\n",
    "detroit_center = [42.3314, -83.0458]  # Latitude and Longitude for Detroit, MI\n",
    "m = folium.Map(location=detroit_center, zoom_start=12)\n",
    "\n",
    "# Add a custom JavaScript function to handle clicks and display coordinates\n",
    "m.add_child(folium.LatLngPopup())\n",
    "\n",
    "# Display the map\n",
    "m"
   ]
  },
  {
   "cell_type": "code",
   "execution_count": 25,
   "metadata": {},
   "outputs": [],
   "source": [
    "# Enter coordinates of interest: \n",
    "lat = 42.571208\n",
    "long =  -83.472606"
   ]
  },
  {
   "cell_type": "code",
   "execution_count": 26,
   "metadata": {},
   "outputs": [],
   "source": [
    "def calculate_bounding_box(lat, lon, miles=5):\n",
    "    # Calculate the degree variations for 5 miles\n",
    "    # 1 degree of latitude is approximately 69 miles\n",
    "    lat_variation = miles / 69\n",
    "    \n",
    "    # 1 degree of longitude is approximately 69 miles * cos(latitude)\n",
    "    lon_variation = miles / (69 * np.cos(np.radians(lat)))\n",
    "    \n",
    "    # Calculate bounding box coordinates\n",
    "    northwest = (lat + lat_variation, lon - lon_variation)\n",
    "    northeast = (lat + lat_variation, lon + lon_variation)\n",
    "    southwest = (lat - lat_variation, lon - lon_variation)\n",
    "    southeast = (lat - lat_variation, lon + lon_variation)\n",
    "    \n",
    "    return {\n",
    "        \"northwest\": northwest,\n",
    "        \"northeast\": northeast,\n",
    "        \"southwest\": southwest,\n",
    "        \"southeast\": southeast\n",
    "    }"
   ]
  },
  {
   "cell_type": "code",
   "execution_count": 27,
   "metadata": {},
   "outputs": [],
   "source": [
    "# Calculate the bounding box\n",
    "bounding_box = calculate_bounding_box(lat, long, miles=5)\n",
    "\n",
    "# Extract the coordinates from the bounding box\n",
    "northwest_lat, northwest_lon = bounding_box[\"northwest\"]\n",
    "southeast_lat, southeast_lon = bounding_box[\"southeast\"]"
   ]
  },
  {
   "cell_type": "code",
   "execution_count": 28,
   "metadata": {},
   "outputs": [],
   "source": [
    "# Define the bounding box for the region using the calculated values\n",
    "df_commerce = df_bc[\n",
    "    (df_bc['gps_longitude'] > northwest_lon) &\n",
    "    (df_bc['gps_longitude'] < southeast_lon) &\n",
    "    (df_bc['gps_latitude'] > southeast_lat) &\n",
    "    (df_bc['gps_latitude'] < northwest_lat)\n",
    "]"
   ]
  },
  {
   "cell_type": "code",
   "execution_count": 29,
   "metadata": {},
   "outputs": [],
   "source": [
    "# Randomly sample the data since there are too many points to plot\n",
    "\n",
    "sampled_df2 = df_commerce.sample(n=10000, random_state=1)"
   ]
  },
  {
   "cell_type": "code",
   "execution_count": null,
   "metadata": {},
   "outputs": [],
   "source": [
    "sampled_df2.info()"
   ]
  },
  {
   "cell_type": "code",
   "execution_count": null,
   "metadata": {},
   "outputs": [],
   "source": [
    "# Initialize a folium map centered around the first point\n",
    "m = folium.Map(location=[sampled_df2['gps_latitude'].iloc[0], sampled_df2['gps_longitude'].iloc[0]], zoom_start=12)\n",
    "\n",
    "# Add points to the map from the sampled DataFrame\n",
    "for _, row in sampled_df2.iterrows():\n",
    "    folium.CircleMarker(\n",
    "        [row['gps_latitude'], row['gps_longitude']],\n",
    "        radius=2,\n",
    "        color=\"blue\",\n",
    "        fill=False,\n",
    "        fill_opacity=0.6,\n",
    "    ).add_to(m)\n",
    "\n",
    "# Display the map\n",
    "m"
   ]
  },
  {
   "cell_type": "code",
   "execution_count": null,
   "metadata": {},
   "outputs": [],
   "source": []
  }
 ],
 "metadata": {
  "environment": {
   "kernel": "python3",
   "name": "common-cpu.m114",
   "type": "gcloud",
   "uri": "gcr.io/deeplearning-platform-release/base-cpu:m114"
  },
  "kernelspec": {
   "display_name": "venv",
   "language": "python",
   "name": "python3"
  },
  "language_info": {
   "codemirror_mode": {
    "name": "ipython",
    "version": 3
   },
   "file_extension": ".py",
   "mimetype": "text/x-python",
   "name": "python",
   "nbconvert_exporter": "python",
   "pygments_lexer": "ipython3",
   "version": "3.9.18"
  }
 },
 "nbformat": 4,
 "nbformat_minor": 4
}
