{
 "cells": [
  {
   "cell_type": "markdown",
   "metadata": {},
   "source": [
    "# Kolmogorov-Smirnov (K-S) test for query minimum euclidean distance distributions"
   ]
  },
  {
   "cell_type": "code",
   "execution_count": 9,
   "metadata": {},
   "outputs": [],
   "source": [
    "# Imports\n",
    "import pandas as pd\n",
    "from scipy.stats import ks_2samp\n",
    "from itertools import combinations"
   ]
  },
  {
   "cell_type": "markdown",
   "metadata": {},
   "source": [
    "# Load Datasets"
   ]
  },
  {
   "cell_type": "code",
   "execution_count": 2,
   "metadata": {},
   "outputs": [],
   "source": [
    "# Load the ditance profiles from the CSV file\n",
    "distance_profiles = pd.read_csv('data/distance_profiles1.csv')"
   ]
  },
  {
   "cell_type": "markdown",
   "metadata": {},
   "source": [
    "# Extract the minimum euclidean distance between selected queries and all trips"
   ]
  },
  {
   "cell_type": "code",
   "execution_count": 3,
   "metadata": {},
   "outputs": [],
   "source": [
    "# The best queries from each impact trip based on the average minimum Euclidean distance\n",
    "selected_query_num = [7, 13, 21, 22, 34]"
   ]
  },
  {
   "cell_type": "code",
   "execution_count": 4,
   "metadata": {},
   "outputs": [],
   "source": [
    "# Only keep the best queries in the distance_profiles\n",
    "distance_profiles = distance_profiles[distance_profiles['query_num'].isin(selected_query_num)]"
   ]
  },
  {
   "cell_type": "code",
   "execution_count": 6,
   "metadata": {},
   "outputs": [
    {
     "data": {
      "text/html": [
       "<div>\n",
       "<style scoped>\n",
       "    .dataframe tbody tr th:only-of-type {\n",
       "        vertical-align: middle;\n",
       "    }\n",
       "\n",
       "    .dataframe tbody tr th {\n",
       "        vertical-align: top;\n",
       "    }\n",
       "\n",
       "    .dataframe thead th {\n",
       "        text-align: right;\n",
       "    }\n",
       "</style>\n",
       "<table border=\"1\" class=\"dataframe\">\n",
       "  <thead>\n",
       "    <tr style=\"text-align: right;\">\n",
       "      <th></th>\n",
       "      <th>trip_num</th>\n",
       "      <th>query_num</th>\n",
       "      <th>distance_profile</th>\n",
       "      <th>min_euclidean_distance</th>\n",
       "    </tr>\n",
       "  </thead>\n",
       "  <tbody>\n",
       "    <tr>\n",
       "      <th>39468</th>\n",
       "      <td>0</td>\n",
       "      <td>7</td>\n",
       "      <td>[22.88592902 29.41060894 18.69057109 22.443871...</td>\n",
       "      <td>18.690571</td>\n",
       "    </tr>\n",
       "    <tr>\n",
       "      <th>39469</th>\n",
       "      <td>1</td>\n",
       "      <td>7</td>\n",
       "      <td>[25.52705058 24.82942687 25.48248208 21.368863...</td>\n",
       "      <td>14.168484</td>\n",
       "    </tr>\n",
       "    <tr>\n",
       "      <th>39470</th>\n",
       "      <td>2</td>\n",
       "      <td>7</td>\n",
       "      <td>[25.2655633  26.57540994 23.82764794 ... 21.86...</td>\n",
       "      <td>9.316708</td>\n",
       "    </tr>\n",
       "    <tr>\n",
       "      <th>39471</th>\n",
       "      <td>3</td>\n",
       "      <td>7</td>\n",
       "      <td>[22.47321033 22.7510133  21.93033253 21.162031...</td>\n",
       "      <td>13.410349</td>\n",
       "    </tr>\n",
       "    <tr>\n",
       "      <th>39472</th>\n",
       "      <td>4</td>\n",
       "      <td>7</td>\n",
       "      <td>[22.90302297 22.41664689 24.09112514 24.734674...</td>\n",
       "      <td>13.691160</td>\n",
       "    </tr>\n",
       "  </tbody>\n",
       "</table>\n",
       "</div>"
      ],
      "text/plain": [
       "       trip_num  query_num                                   distance_profile  \\\n",
       "39468         0          7  [22.88592902 29.41060894 18.69057109 22.443871...   \n",
       "39469         1          7  [25.52705058 24.82942687 25.48248208 21.368863...   \n",
       "39470         2          7  [25.2655633  26.57540994 23.82764794 ... 21.86...   \n",
       "39471         3          7  [22.47321033 22.7510133  21.93033253 21.162031...   \n",
       "39472         4          7  [22.90302297 22.41664689 24.09112514 24.734674...   \n",
       "\n",
       "       min_euclidean_distance  \n",
       "39468               18.690571  \n",
       "39469               14.168484  \n",
       "39470                9.316708  \n",
       "39471               13.410349  \n",
       "39472               13.691160  "
      ]
     },
     "execution_count": 6,
     "metadata": {},
     "output_type": "execute_result"
    }
   ],
   "source": [
    "distance_profiles.head()"
   ]
  },
  {
   "cell_type": "code",
   "execution_count": 7,
   "metadata": {},
   "outputs": [],
   "source": [
    "# Create a dictionary that contains the query number as the key, and then all the minimum distances in an array as the value\n",
    "distance_profiles_dict = {}\n",
    "for query_num in selected_query_num:\n",
    "    distance_profiles_dict[query_num] = distance_profiles[distance_profiles['query_num'] == query_num]['min_euclidean_distance'].values"
   ]
  },
  {
   "cell_type": "code",
   "execution_count": 8,
   "metadata": {},
   "outputs": [
    {
     "data": {
      "text/plain": [
       "{7: array([18.69057109, 14.16848367,  9.3167081 , ...,  8.80665509,\n",
       "        12.04036232, 10.46606536]),\n",
       " 13: array([19.36887936, 11.30584006, 11.10926285, ..., 11.62525096,\n",
       "        14.32147987, 10.8132696 ]),\n",
       " 21: array([15.68953368, 13.42646348, 10.11526571, ..., 12.34749472,\n",
       "        13.51178227,  9.001042  ]),\n",
       " 22: array([16.3010793 , 12.09697571, 10.17847698, ..., 10.59114888,\n",
       "        10.71156309,  8.20341393]),\n",
       " 34: array([14.9955456 , 13.88959424, 10.97533621, ..., 12.63657566,\n",
       "        10.21786138, 10.31009396])}"
      ]
     },
     "execution_count": 8,
     "metadata": {},
     "output_type": "execute_result"
    }
   ],
   "source": [
    "# Show the dictionary\n",
    "distance_profiles_dict"
   ]
  },
  {
   "cell_type": "markdown",
   "metadata": {},
   "source": [
    "# Perform K-S Statistical Test"
   ]
  },
  {
   "cell_type": "code",
   "execution_count": 13,
   "metadata": {},
   "outputs": [
    {
     "name": "stdout",
     "output_type": "stream",
     "text": [
      "K-S Test between Query 7 and Query 13:\n",
      "KS Statistic: 0.2928, P-value: 0.00000000000000000000\n",
      "The distributions of Query 7 and Query 13 are significantly different (reject H₀).\n",
      "\n",
      "K-S Test between Query 7 and Query 21:\n",
      "KS Statistic: 0.1406, P-value: 0.00000000000000000000\n",
      "The distributions of Query 7 and Query 21 are significantly different (reject H₀).\n",
      "\n",
      "K-S Test between Query 7 and Query 22:\n",
      "KS Statistic: 0.1391, P-value: 0.00000000000000000000\n",
      "The distributions of Query 7 and Query 22 are significantly different (reject H₀).\n",
      "\n",
      "K-S Test between Query 7 and Query 34:\n",
      "KS Statistic: 0.1859, P-value: 0.00000000000000000000\n",
      "The distributions of Query 7 and Query 34 are significantly different (reject H₀).\n",
      "\n",
      "K-S Test between Query 13 and Query 21:\n",
      "KS Statistic: 0.2259, P-value: 0.00000000000000000000\n",
      "The distributions of Query 13 and Query 21 are significantly different (reject H₀).\n",
      "\n",
      "K-S Test between Query 13 and Query 22:\n",
      "KS Statistic: 0.4249, P-value: 0.00000000000000000000\n",
      "The distributions of Query 13 and Query 22 are significantly different (reject H₀).\n",
      "\n",
      "K-S Test between Query 13 and Query 34:\n",
      "KS Statistic: 0.1280, P-value: 0.00000000000000000000\n",
      "The distributions of Query 13 and Query 34 are significantly different (reject H₀).\n",
      "\n",
      "K-S Test between Query 21 and Query 22:\n",
      "KS Statistic: 0.2729, P-value: 0.00000000000000000000\n",
      "The distributions of Query 21 and Query 22 are significantly different (reject H₀).\n",
      "\n",
      "K-S Test between Query 21 and Query 34:\n",
      "KS Statistic: 0.1029, P-value: 0.00000000000000000000\n",
      "The distributions of Query 21 and Query 34 are significantly different (reject H₀).\n",
      "\n",
      "K-S Test between Query 22 and Query 34:\n",
      "KS Statistic: 0.3224, P-value: 0.00000000000000000000\n",
      "The distributions of Query 22 and Query 34 are significantly different (reject H₀).\n",
      "\n"
     ]
    }
   ],
   "source": [
    "# Perform K-S test on each pair of queries\n",
    "for query_a, query_b in combinations(distance_profiles_dict.keys(), 2):\n",
    "    dist_a = distance_profiles_dict[query_a]\n",
    "    dist_b = distance_profiles_dict[query_b]\n",
    "\n",
    "    # Make sure the two distributions have the same length\n",
    "    min_len = min(len(dist_a), len(dist_b))\n",
    "    dist_a = dist_a[:min_len]\n",
    "    dist_b = dist_b[:min_len]\n",
    "    \n",
    "    # Perform K-S test\n",
    "    ks_stat, p_value = ks_2samp(dist_a, dist_b)\n",
    "    \n",
    "    # Output results\n",
    "    print(f\"K-S Test between Query {query_a} and Query {query_b}:\")\n",
    "    print(f\"KS Statistic: {ks_stat:.4f}, P-value: {p_value:.20f}\")\n",
    "    \n",
    "    if p_value > 0.05:\n",
    "        print(f\"The distributions of Query {query_a} and Query {query_b} are similar (fail to reject H₀).\\n\")\n",
    "    else:\n",
    "        print(f\"The distributions of Query {query_a} and Query {query_b} are significantly different (reject H₀).\\n\")\n"
   ]
  },
  {
   "cell_type": "code",
   "execution_count": null,
   "metadata": {},
   "outputs": [],
   "source": []
  }
 ],
 "metadata": {
  "kernelspec": {
   "display_name": "env_bc_eda",
   "language": "python",
   "name": "env_bc_eda"
  },
  "language_info": {
   "codemirror_mode": {
    "name": "ipython",
    "version": 3
   },
   "file_extension": ".py",
   "mimetype": "text/x-python",
   "name": "python",
   "nbconvert_exporter": "python",
   "pygments_lexer": "ipython3",
   "version": "3.9.18"
  }
 },
 "nbformat": 4,
 "nbformat_minor": 2
}
