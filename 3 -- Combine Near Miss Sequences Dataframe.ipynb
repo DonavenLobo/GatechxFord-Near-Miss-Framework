{
 "cells": [
  {
   "cell_type": "markdown",
   "metadata": {},
   "source": [
    "# Step 3: Combine Near Miss Sequences Dataframes"
   ]
  },
  {
   "cell_type": "code",
   "execution_count": 1,
   "metadata": {
    "tags": []
   },
   "outputs": [],
   "source": [
    "# Imports\n",
    "import pandas as pd"
   ]
  },
  {
   "cell_type": "markdown",
   "metadata": {},
   "source": [
    "## Load Dataframes\n",
    "- Can only combine 2 at a time\n",
    "- If need to combine more, do it sequencially i.e. combine the first 2, and then use the output to combine with the 3rd"
   ]
  },
  {
   "cell_type": "code",
   "execution_count": null,
   "metadata": {},
   "outputs": [],
   "source": [
    "# Load the first dataframe (Let this be the 'BASE' dataframe: We are adding to this)\n",
    "df1 = pd.read_csv('data/df_near_miss_windows_fingerprint.csv')\n",
    "\n",
    "# Load the second dataframe\n",
    "df2 = pd.read_csv('data/df_near_miss_windows_manuevers.csv')\n"
   ]
  },
  {
   "cell_type": "markdown",
   "metadata": {},
   "source": [
    "## Data Formatting\n",
    "- Sort out the seg_num_id so that there aren't duplicates for different near miss sequences\n",
    "\n"
   ]
  },
  {
   "cell_type": "code",
   "execution_count": null,
   "metadata": {},
   "outputs": [],
   "source": [
    "# Identify the largest seg_num_id in the base dataframe\n",
    "largest_seg_num_id = df1['seg_num_id'].max()\n",
    "\n",
    "# Use this to manipulate the seg_num_id of the second dataframe\n",
    "df2['seg_num_id'] = df2['seg_num_id'] + largest_seg_num_id\n"
   ]
  },
  {
   "cell_type": "markdown",
   "metadata": {},
   "source": [
    "## Combine the two dataframes\n",
    "- Concatonate the two dataframes\n"
   ]
  },
  {
   "cell_type": "code",
   "execution_count": null,
   "metadata": {},
   "outputs": [],
   "source": [
    "df_combined = pd.concat([df1, df2], ignore_index=True)\n"
   ]
  },
  {
   "cell_type": "markdown",
   "metadata": {},
   "source": [
    "## Save the combined Near Miss Sequences\n",
    "- Make sure name this based on the dataframes that were combined"
   ]
  },
  {
   "cell_type": "code",
   "execution_count": null,
   "metadata": {},
   "outputs": [],
   "source": [
    "df_combined.to_csv('data/df_near_miss_windows_combined1.csv', index=False)"
   ]
  }
 ],
 "metadata": {
  "environment": {
   "kernel": "python3",
   "name": "common-cpu.m114",
   "type": "gcloud",
   "uri": "gcr.io/deeplearning-platform-release/base-cpu:m114"
  },
  "kernelspec": {
   "display_name": "env_bc_eda",
   "language": "python",
   "name": "env_bc_eda"
  },
  "language_info": {
   "codemirror_mode": {
    "name": "ipython",
    "version": 3
   },
   "file_extension": ".py",
   "mimetype": "text/x-python",
   "name": "python",
   "nbconvert_exporter": "python",
   "pygments_lexer": "ipython3",
   "version": "3.9.18"
  }
 },
 "nbformat": 4,
 "nbformat_minor": 4
}
