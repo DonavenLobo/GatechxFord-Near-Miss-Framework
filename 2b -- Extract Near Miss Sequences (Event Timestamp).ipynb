{
 "cells": [
  {
   "cell_type": "markdown",
   "metadata": {},
   "source": [
    "# Step 2b: Extract Near Miss Sequences (Event Timestamp)"
   ]
  },
  {
   "cell_type": "code",
   "execution_count": 1,
   "metadata": {
    "tags": []
   },
   "outputs": [],
   "source": [
    "# Imports\n",
    "import pandas as pd\n",
    "from datetime import timedelta\n",
    "from google.cloud import bigquery\n",
    "import os"
   ]
  },
  {
   "cell_type": "markdown",
   "metadata": {
    "vscode": {
     "languageId": "sql"
    }
   },
   "source": [
    "## GCP Setup:"
   ]
  },
  {
   "cell_type": "code",
   "execution_count": 2,
   "metadata": {
    "tags": []
   },
   "outputs": [],
   "source": [
    "# # Google Cloud Authentication: \n",
    "assert os.system('gcloud auth application-default login --quiet') == 0"
   ]
  },
  {
   "cell_type": "code",
   "execution_count": 3,
   "metadata": {
    "tags": []
   },
   "outputs": [],
   "source": [
    "# # Insert your project ID here:\n",
    "PROJECT_ID = \"ford-5bba11084fd31e17ec109f0c\""
   ]
  },
  {
   "cell_type": "code",
   "execution_count": 4,
   "metadata": {
    "tags": []
   },
   "outputs": [],
   "source": [
    "assert os.system(f\"gcloud config set core/project {PROJECT_ID}\") == 0"
   ]
  },
  {
   "cell_type": "code",
   "execution_count": 5,
   "metadata": {
    "tags": []
   },
   "outputs": [
    {
     "name": "stdout",
     "output_type": "stream",
     "text": [
      "[core]\n",
      "disable_usage_reporting = True\n",
      "project = ford-5bba11084fd31e17ec109f0c\n"
     ]
    },
    {
     "name": "stderr",
     "output_type": "stream",
     "text": [
      "\n",
      "Your active configuration is: [default]\n"
     ]
    }
   ],
   "source": [
    "!gcloud config list"
   ]
  },
  {
   "cell_type": "markdown",
   "metadata": {},
   "source": [
    "## Query: BlueCruise Data from claims VINs:\n",
    "- Gets any live data surrounding (+- 1 day) the impact time for each vin\n",
    "- BlueCruise 1Hz Data"
   ]
  },
  {
   "cell_type": "code",
   "execution_count": null,
   "metadata": {
    "vscode": {
     "languageId": "sql"
    }
   },
   "outputs": [],
   "source": [
    "/* Based on this original query in BigQuery: */\n",
    "/*Had some issues with duplicates but should be easy to fix/ filter */\n",
    "SELECT \n",
    "    /* Identifiers */\n",
    "    b.dpefa_bc_007_vin_17_x AS vin,\n",
    "    b.dpefa_bc_007_trip_d AS trip_id,\n",
    "\n",
    "    /* Time */\n",
    "    b.dpefa_bc_007_event_local_m AS date_time,\n",
    "\n",
    "    /* Driving Characteristics */\n",
    "    b.dpefa_bc_007_trffc_jam_asst_stat_x AS veh_assist_mode,\n",
    "    b.dpefa_bc_007_hst_veh_long_vlcy_r AS veh_long_vel_mps,\n",
    "    b.dpefa_bc_007_hst_veh_ltrl_vlcy_r AS veh_ltrl_vel_mps,\n",
    "    b.dpefa_bc_007_hst_veh_yaw_rate_r AS veh_yaw_rate_radps,\n",
    "    b.dpefa_bc_007_acc_mps2 AS veh_accel_mps2,\n",
    "    b.dpefa_bc_007_jerk_mps3 AS veh_jerk_mps3\n",
    "\n",
    "FROM `prj-dfad-31-usrda-p-31.dlobo1_bluecruise.gdpefa_adas_bc_ada_lm_vw` b\n",
    "\n",
    "JOIN `ford-5bba11084fd31e17ec109f0c.GATech.bc_impact_timestamps_2021_2024` i\n",
    "ON b.dpefa_bc_007_vin_17_x = i.VIN\n",
    "\n",
    "WHERE \n",
    "    b.dpefa_bc_007_event_m BETWEEN TIMESTAMP_SUB(i.MODEM_TIMESTAMP, INTERVAL 1 DAY) AND TIMESTAMP_ADD(i.MODEM_TIMESTAMP, INTERVAL 1 DAY)\n",
    "    AND DATE(b.dpefa_bc_007_event_m) BETWEEN DATE_SUB(DATE(i.MODEM_TIMESTAMP), INTERVAL 1 DAY) \n",
    "    AND DATE_ADD(DATE(i.MODEM_TIMESTAMP), INTERVAL 1 DAY)\n",
    "    AND DATE(b.dpefa_bc_007_event_m) IS NOT NULL\n",
    "    AND b.dpefa_bc_007_event_m IS NOT NULL"
   ]
  },
  {
   "cell_type": "code",
   "execution_count": 7,
   "metadata": {
    "tags": []
   },
   "outputs": [],
   "source": [
    "# Filtered the original query to remove duplicates and saved in project \n",
    "q = \"\"\"\n",
    "SELECT *\n",
    "FROM `ford-5bba11084fd31e17ec109f0c.GATech.bluecruise_impacts_1hz_21-24`\n",
    "\"\"\""
   ]
  },
  {
   "cell_type": "code",
   "execution_count": 8,
   "metadata": {
    "tags": []
   },
   "outputs": [],
   "source": [
    "# Excecute the query to get 1Hz data\n",
    "client = bigquery.Client()\n",
    "df = client.query(q)\n",
    "df_bc = df.to_dataframe()"
   ]
  },
  {
   "cell_type": "markdown",
   "metadata": {},
   "source": [
    "## Query: Timestamp of Impacts Dataset\n",
    "- Only the VINs that are also in the BC dataset"
   ]
  },
  {
   "cell_type": "code",
   "execution_count": null,
   "metadata": {
    "vscode": {
     "languageId": "sql"
    }
   },
   "outputs": [],
   "source": [
    "/* Based on these queries */\n",
    "SELECT t1.*\n",
    "FROM `ford-95bec5f0488dddd4a3227e1b.Ford_Pro.fias_management_impact_event_extract_09302024` AS t1\n",
    "INNER JOIN (\n",
    "    SELECT dpefa_bc_007_vin_17_x AS vin\n",
    "    FROM `prj-dfad-31-usrda-p-31.dlobo1_bluecruise.gdpefa_adas_bc_ada_lm_vw`\n",
    "    WHERE dpefa_bc_007_event_m BETWEEN '2021-01-01' AND '2024-10-01'\n",
    ") AS t2 ON t1.VIN = t2.vin;\n",
    "\n",
    "/*Then saved these results to another dataset in BigQuery and ran this next query*/\n",
    "SELECT VIN,\n",
    "MODEM_TIMESTAMP,\n",
    "TIME_OF_DAY, \n",
    "LOCAL_TIMESTAMP, \n",
    "RSTR_IMPACT_EVENT \n",
    "FROM `ford-5bba11084fd31e17ec109f0c.GATech.temp_impact_bc2`"
   ]
  },
  {
   "cell_type": "code",
   "execution_count": 10,
   "metadata": {},
   "outputs": [],
   "source": [
    "q2= \"\"\"\n",
    "SELECT *\n",
    "FROM `ford-5bba11084fd31e17ec109f0c.GATech.bc_impact_timestamps_2021_2024`\n",
    "\"\"\""
   ]
  },
  {
   "cell_type": "code",
   "execution_count": 11,
   "metadata": {},
   "outputs": [],
   "source": [
    "# Excecute the query to get the impact time stamps\n",
    "client = bigquery.Client()\n",
    "df = client.query(q2)\n",
    "df_impact_timestamps = df.to_dataframe()"
   ]
  },
  {
   "cell_type": "markdown",
   "metadata": {},
   "source": [
    "## Data Formatting"
   ]
  },
  {
   "cell_type": "code",
   "execution_count": 14,
   "metadata": {},
   "outputs": [],
   "source": [
    "# Change all the column names to lower case\n",
    "df_bc.columns = map(str.lower, df_bc.columns)\n",
    "df_impact_timestamps.columns = map(str.lower, df_impact_timestamps.columns)\n",
    "\n",
    "# Convert the datetime objects with ISO8601 format\n",
    "df_bc['date_time'] = pd.to_datetime(df_bc['date_time'], format='ISO8601') # Convert the date_time column to a datetime object with ISO8601 format\n",
    "df_impact_timestamps['modem_timestamp'] = pd.to_datetime(df_impact_timestamps['modem_timestamp'], format='ISO8601') # Convert the impact_timestamp column to a datetime object with ISO8601 format"
   ]
  },
  {
   "cell_type": "markdown",
   "metadata": {},
   "source": [
    "## Impact Detection (Using Event Timestamps Dataset)\n",
    "- Define how close to the event timestamp the 1Hz data can be considered to have recorded the impact (Tolerance)\n",
    "- Set the tolerance"
   ]
  },
  {
   "cell_type": "code",
   "execution_count": 12,
   "metadata": {},
   "outputs": [],
   "source": [
    "# Define tolerance (e.g. 1 minute) [NOTE: This is arbitrary, can be tuned]\n",
    "tolerance = timedelta(minutes=1)"
   ]
  },
  {
   "cell_type": "code",
   "execution_count": 28,
   "metadata": {},
   "outputs": [],
   "source": [
    "# Function to check if impact timestamps are within tolerance in 1Hz data\n",
    "def check_impact_timestamps(one_hz_data, impact_data, tolerance):\n",
    "    results = []\n",
    "    for trip_id in one_hz_data['trip_id'].unique():\n",
    "        \n",
    "        trip_one_hz_data = one_hz_data[one_hz_data['trip_id'] == trip_id]\n",
    "        vin = trip_one_hz_data['vin'].iloc[0]\n",
    "\n",
    "        trip_impact_data = impact_data[impact_data['vin'] == vin]\n",
    "        \n",
    "        for impact_timestamp in trip_impact_data['modem_timestamp']:\n",
    "            found = any(abs(impact_timestamp - one_hz_timestamp) <= tolerance for one_hz_timestamp in trip_one_hz_data['date_time'])\n",
    "            results.append({\n",
    "                'trip_id': trip_id,\n",
    "                'vin': vin,\n",
    "                'impact_timestamp': impact_timestamp,\n",
    "                'found_in_1Hz_data': found\n",
    "            })\n",
    "    \n",
    "    return pd.DataFrame(results)"
   ]
  },
  {
   "cell_type": "code",
   "execution_count": 29,
   "metadata": {},
   "outputs": [],
   "source": [
    "# Check impact timestamps\n",
    "results_df = check_impact_timestamps(df_bc, df_impact_timestamps, tolerance)"
   ]
  },
  {
   "cell_type": "code",
   "execution_count": 30,
   "metadata": {},
   "outputs": [],
   "source": [
    "# Print out the true results rows\n",
    "impact_detected_df = results_df[results_df['found_in_1Hz_data'] == True]"
   ]
  },
  {
   "cell_type": "markdown",
   "metadata": {},
   "source": [
    "## Near Miss Extraction\n",
    "- Extract X second near miss sequences before the impact time\n",
    "- X = 10 seconds [This can be tuned]\n",
    "- Uncertainty window: 3 seconds before and after the impact time [This can be tuned]"
   ]
  },
  {
   "cell_type": "code",
   "execution_count": null,
   "metadata": {},
   "outputs": [],
   "source": [
    "# Set window size variables:\n",
    "X = 10 # X-second sequence/ window size\n",
    "Y = 3 # Y-second uncertainty window size (The uncertainty of when the impact actually occurs)"
   ]
  },
  {
   "cell_type": "code",
   "execution_count": null,
   "metadata": {},
   "outputs": [],
   "source": [
    "df_bc['seg_num_id'] = 0  # Initialize the segment number identifier\n",
    "segment_count = 0  # Initialize the segment counter for this trip\n",
    "\n",
    "# Create an empty DataFrame to store the window segments\n",
    "windows_df = pd.DataFrame()\n",
    "\n",
    "for trip_num in impact_detected_df['trip_id'].unique():\n",
    "    trip_data = df_bc[df_bc['trip_id'] == trip_num].copy()\n",
    "    impact_time = impact_detected_df[impact_detected_df['trip_id'] == trip_num]['impact_timestamp']\n",
    "    \n",
    "    # Process multiple windows around each impact\n",
    "    for offset in range(-Y, Y + 1):\n",
    "        window_start = impact_time - pd.Timedelta(seconds=X + 2) + pd.Timedelta(seconds=offset)\n",
    "        window_end = impact_time - pd.Timedelta(seconds=2) + pd.Timedelta(seconds=offset)\n",
    "        window = trip_data[(trip_data['date_time'] >= window_start) & (trip_data['date_time'] < window_end)].copy()\n",
    "        segment_count += 1\n",
    "        window['seg_num_id'] = segment_count  # Assign unique segment number within the trip\n",
    "        windows_df = pd.concat([windows_df, window])\n",
    "\n",
    "# Reset index for the windows DataFrame\n",
    "windows_df.reset_index(drop=True, inplace=True)"
   ]
  },
  {
   "cell_type": "markdown",
   "metadata": {},
   "source": [
    "## Save the Near Miss Sequences"
   ]
  },
  {
   "cell_type": "code",
   "execution_count": null,
   "metadata": {},
   "outputs": [],
   "source": [
    "# Data Cleaning:\n",
    "windows_df = windows_df.groupby('seg_num_id').filter(lambda x: len(x) >= 5) # Drop any segments that have less than 5 seconds of data based on seg_num_id\n",
    "windows_df.drop(columns=['impact_indicator'], inplace=True) # Drop impact_indicator column and save the windows_df to a CSV file"
   ]
  },
  {
   "cell_type": "code",
   "execution_count": null,
   "metadata": {},
   "outputs": [],
   "source": [
    "# Save the cleaned near miss sequences to a CSV file\n",
    "windows_df.to_csv('data/df_near_miss_windows_event_ts.csv', index=False)"
   ]
  }
 ],
 "metadata": {
  "environment": {
   "kernel": "python3",
   "name": "common-cpu.m114",
   "type": "gcloud",
   "uri": "gcr.io/deeplearning-platform-release/base-cpu:m114"
  },
  "kernelspec": {
   "display_name": "env_bc_eda",
   "language": "python",
   "name": "env_bc_eda"
  },
  "language_info": {
   "codemirror_mode": {
    "name": "ipython",
    "version": 3
   },
   "file_extension": ".py",
   "mimetype": "text/x-python",
   "name": "python",
   "nbconvert_exporter": "python",
   "pygments_lexer": "ipython3",
   "version": "3.9.18"
  }
 },
 "nbformat": 4,
 "nbformat_minor": 4
}
