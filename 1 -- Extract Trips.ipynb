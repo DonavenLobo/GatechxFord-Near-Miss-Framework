{
 "cells": [
  {
   "cell_type": "markdown",
   "metadata": {},
   "source": [
    "# Step 1: Extract Relevant BlueCruise Trip Data (Complete Trip Data - i.e Longer Time Series)"
   ]
  },
  {
   "cell_type": "code",
   "execution_count": 1,
   "metadata": {
    "tags": []
   },
   "outputs": [],
   "source": [
    "# Imports\n",
    "import pandas as pd\n",
    "from google.cloud import bigquery\n",
    "import os"
   ]
  },
  {
   "cell_type": "markdown",
   "metadata": {
    "vscode": {
     "languageId": "sql"
    }
   },
   "source": [
    "## GCP Setup:"
   ]
  },
  {
   "cell_type": "code",
   "execution_count": 4,
   "metadata": {
    "tags": []
   },
   "outputs": [],
   "source": [
    "# # Google Cloud Authentication: \n",
    "assert os.system('gcloud auth application-default login --quiet') == 0"
   ]
  },
  {
   "cell_type": "code",
   "execution_count": 5,
   "metadata": {
    "tags": []
   },
   "outputs": [],
   "source": [
    "# # Insert your project ID here:\n",
    "PROJECT_ID = \"ford-5bba11084fd31e17ec109f0c\""
   ]
  },
  {
   "cell_type": "code",
   "execution_count": 6,
   "metadata": {
    "tags": []
   },
   "outputs": [],
   "source": [
    "assert os.system(f\"gcloud config set core/project {PROJECT_ID}\") == 0"
   ]
  },
  {
   "cell_type": "code",
   "execution_count": 7,
   "metadata": {
    "tags": []
   },
   "outputs": [
    {
     "name": "stdout",
     "output_type": "stream",
     "text": [
      "[core]\n",
      "disable_usage_reporting = True\n",
      "project = ford-5bba11084fd31e17ec109f0c\n"
     ]
    },
    {
     "name": "stderr",
     "output_type": "stream",
     "text": [
      "\n",
      "Your active configuration is: [default]\n"
     ]
    }
   ],
   "source": [
    "!gcloud config list"
   ]
  },
  {
   "cell_type": "markdown",
   "metadata": {},
   "source": [
    "## Query: Extract BlueCruise Data from BigQuery (GCP)\n",
    "- Initial Features extracted are:\n",
    "    - trip_id\n",
    "    - date_time\n",
    "    - veh_long_vel_mps\n",
    "    - veh_ltrl_vel_mps\n",
    "    - veh_yaw_rate_radps\n",
    "    - veh_accel_mps2\n",
    "    - veh_jerk_mps3\n"
   ]
  },
  {
   "cell_type": "code",
   "execution_count": null,
   "metadata": {},
   "outputs": [],
   "source": [
    "q = \"\"\"\n",
    "SELECT\n",
    "/* Identifiers */\n",
    "dpefa_bc_007_trip_d as trip_id,\n",
    " \n",
    "/*Time*/\n",
    "dpefa_bc_007_event_local_m as date_time,\n",
    " \n",
    "/* Driving Characteristics */\n",
    "dpefa_bc_007_hst_veh_long_vlcy_r as veh_long_vel_mps,\n",
    "dpefa_bc_007_hst_veh_ltrl_vlcy_r as veh_ltrl_vel_mps,\n",
    "dpefa_bc_007_hst_veh_yaw_rate_r as veh_yaw_rate_radps,\n",
    "dpefa_bc_007_acc_mps2 as veh_accel_mps2,\n",
    "dpefa_bc_007_jerk_mps3 as veh_jerk_mps3,\n",
    " \n",
    " \n",
    "FROM `prj-dfad-31-usrda-p-31.dlobo1_bluecruise.gdpefa_adas_bc_ada_lm_vw` /* Change this to your dataset */\n",
    "WHERE EXTRACT(date from dpefa_bc_007_event_m) between '2023-7-1' AND '2023-8-1' /*Set Dates of Interest*/\n",
    "AND dpefa_bc_007_vin_17_x IN (SELECT\n",
    "  dpefa_bc_007_vin_17_x AS vin,\n",
    "  FROM `prj-dfad-31-usrda-p-31.dlobo1_bluecruise.gdpefa_adas_bc_ada_lm_vw`\n",
    "  WHERE dpefa_bc_007_vin_17_x IN (\n",
    "    SELECT DISTINCT bc.dpefa_bc_007_vin_17_x\n",
    "    FROM `prj-dfad-31-usrda-p-31.dlobo1_bluecruise.gdpefa_adas_bc_ada_lm_vw` AS bc\n",
    "    INNER JOIN `ford-5bba11084fd31e17ec109f0c.Ford_Pro_09112023.management_lease_summary_09112023` AS mgmt_lease\n",
    "    ON bc.dpefa_bc_007_vin_17_x = mgmt_lease.VIN\n",
    "    WHERE bc.dpefa_bc_007_event_m BETWEEN '2023-7-1' AND '2023-8-1' /* SET DATES OF INTEREST */\n",
    "  )\n",
    "  AND dpefa_bc_007_event_m BETWEEN '2023-7-1' AND '2023-8-1' /* SET DATES OF INTEREST */\n",
    "  GROUP BY dpefa_bc_007_vin_17_x\n",
    "  ORDER BY COUNT(dpefa_bc_007_vin_17_x) DESC\n",
    "  LIMIT 10) /* SET NUMBER OF VINS OF INTEREST (Top X number of Vins with most BC data) */\n",
    "\"\"\""
   ]
  },
  {
   "cell_type": "code",
   "execution_count": 9,
   "metadata": {
    "tags": []
   },
   "outputs": [],
   "source": [
    "# Excecute the query\n",
    "client = bigquery.Client()\n",
    "df = client.query(q)\n",
    "df_bc = df.to_dataframe()"
   ]
  },
  {
   "cell_type": "markdown",
   "metadata": {},
   "source": [
    "## Data Preprocessing\n",
    "- Change date time object into ISO 8601 format\n",
    "- Filter out trips that are shorter than 12 seconds long [Arbitrary duration -> Can tune]"
   ]
  },
  {
   "cell_type": "code",
   "execution_count": null,
   "metadata": {},
   "outputs": [],
   "source": [
    "# Convert the date_time column to datetime format\n",
    "df_bc['date_time'] = pd.to_datetime(df_bc['date_time'], format='ISO8601')\n",
    "\n",
    "# Find the start and end time of each trip and the duration of each trip\n",
    "start_time = df_bc.groupby('trip_id')['date_time'].first()\n",
    "end_time = df_bc.groupby('trip_id')['date_time'].last()\n",
    "trip_duration = end_time - start_time\n",
    "\n",
    "# Create a new dataframe with the trip number, start time, end time, and duration\n",
    "trip_info = pd.DataFrame({'start_time': start_time, 'end_time': end_time, 'duration': trip_duration})\n",
    "trip_info.reset_index(inplace=True)\n",
    "trip_info.sort_values('duration', ascending=False, inplace=True) # sort the dataframe by longest trip first\n",
    "\n",
    "# Remove all trips from df_bc that have a trip length less than 12 seconds using the trip_info DataFrame\n",
    "valid_trip_nums = trip_info[trip_info['duration'] >= pd.Timedelta(seconds=12)]['trip_id'].unique()\n",
    "df_bc = df_bc[df_bc['trip_id'].isin(valid_trip_nums)]"
   ]
  },
  {
   "cell_type": "markdown",
   "metadata": {},
   "source": [
    "## Save Dataframe"
   ]
  },
  {
   "cell_type": "code",
   "execution_count": 11,
   "metadata": {},
   "outputs": [],
   "source": [
    "# Create data folder if it doesn't exist\n",
    "if not os.path.exists('data'):\n",
    "    os.makedirs('data')\n",
    "\n",
    "# Saving the df to a csv file [Rename this to include the date range]\n",
    "df_bc.to_csv('data/df_bc_trips_PLACEHOLDER.csv', index = False)"
   ]
  }
 ],
 "metadata": {
  "environment": {
   "kernel": "python3",
   "name": "common-cpu.m114",
   "type": "gcloud",
   "uri": "gcr.io/deeplearning-platform-release/base-cpu:m114"
  },
  "kernelspec": {
   "display_name": "env_bc_eda",
   "language": "python",
   "name": "env_bc_eda"
  },
  "language_info": {
   "codemirror_mode": {
    "name": "ipython",
    "version": 3
   },
   "file_extension": ".py",
   "mimetype": "text/x-python",
   "name": "python",
   "nbconvert_exporter": "python",
   "pygments_lexer": "ipython3",
   "version": "3.9.18"
  }
 },
 "nbformat": 4,
 "nbformat_minor": 4
}
